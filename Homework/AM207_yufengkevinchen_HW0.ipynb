{
 "cells": [
  {
   "cell_type": "markdown",
   "metadata": {},
   "source": [
    "# **AM 207**: Homework 0"
   ]
  },
  {
   "cell_type": "markdown",
   "metadata": {},
   "source": [
    "_ _ _ _ _\n",
    "\n",
    "Verena Kaynig-Fittkau and Pavlos Protopapas  <br>\n",
    "Due: 11.59 P.M. Thursday February 4th, 2016\n",
    "\n",
    "**Instructions**:\n",
    "\n",
    "+ Upload your answers in an ipython notebook to Canvas.\n",
    "\n",
    "+ We will provide you imports for your ipython notebook. Please do not import additional libraries.\n",
    "\n",
    "+ Your individual submissions should use the following filenames: AM207_YOURNAME_HW0.ipynb\n",
    "\n",
    "+ Your code should be in code cells as part of your ipython notebook. Do not use a different language (or format). \n",
    "\n",
    "+ Do not just send your code. The homework solutions should be in a report style. Be sure to add comments to your code as well as markdown cells where you describe your approach and discuss your results. \n",
    "\n",
    "+ Please submit your notebook in an executed status, so that we can see all the results you computed. However, we will still run your code and all cells should reproduce the output when executed. \n",
    "\n",
    "+ If you have multiple files (e.g. you've added code files or images) create a tarball for all files in a single file and name it: AM207_YOURNAME_HW0.tar.gz or AM207_YOURNAME_HW0.zip\n",
    "\n",
    "_ _ _ _ _"
   ]
  },
  {
   "cell_type": "markdown",
   "metadata": {},
   "source": [
    "### Setting up your environment as described below is mandatory. \n",
    "### Submission of this homework is voluntary and it will not count against your grade. \n",
    "We still ask you to submit the homework to make sure the submission system is working. If you do not choose to do so it is your responsibility in case you do not succesfully submit HW1.\n",
    "\n",
    "---\n",
    "\n",
    "Welcome to AM 207 (http://am207.github.io/2016/).  In this class, we will be using a variety of tools that will require some initial configuration. To ensure everything goes smoothly moving forward, we will set up the majority of those tools in this homework. While some of this will likely be dull, doing it now will enable us to do more exciting work in the weeks that follow without getting bogged down in further software configuration. We are explicitly reserving the first week of the course for this assignment to give you time to do all the neccessary setup. Please use this time. Sometimes getting Pymc to work can be a bit tricky. \n",
    "\n",
    "## Piazza and Introduction\n",
    "\n",
    "\n",
    "**Piazza**\n",
    "\n",
    "Go to [Piazza](piazza.com/harvard/spring2016/am207) and sign up for the class using your Harvard e-mail address. \n",
    "\n",
    "You will use Piazza as a forum for discussion, to find team members, to arrange appointments, and to ask questions. Piazza should be your primary form of communication with the staff. Use the staff e-mail (am207tas@gmail.com) only for individual requests. All homework assignments, and project descriptions will be announced on Piazza. If you do not have a harvard email address, please write an email to Verena (vkaynig@seas.harvard.edu), and you will be added to Piazza. \n",
    "\n",
    "**Introduction**\n",
    "\n",
    "Once you are signed up to the Piazza course forum, introduce yourself to your classmates and course staff with a follow-up post in the introduction thread. Include your name/nickname, your affiliation, why you are taking this course, and tell us something interesting about yourself (e.g., an industry job, an unusual hobby, past travels, or a cool project you did, etc.).  \n",
    "\n",
    "## Programming expectations\n",
    "\n",
    "All the assignments and labs for this class will use Python and, for the most part, the browser-based IPython notebook format you are currently viewing. Knowledge of Python is not a prerequisite for this course, **provided you are comfortable learning on your own as needed**. While we have strived to make the programming component of this course straightforward, we will not devote much time to teaching prorgramming or Python syntax. Basically, you should feel comfortable with:\n",
    "\n",
    "* How to look up Python syntax on Google and StackOverflow.\n",
    "* Basic programming concepts like functions, loops, arrays, dictionaries, strings, and if statements.\n",
    "* How to learn new libraries by reading documentation.\n",
    "* Asking questions on StackOverflow or Piazza.\n",
    "\n",
    "There are many online tutorials to introduce you to scientific python programming. A small sample below\n",
    "\n",
    "* [An intro to scientific python](https://github.com/jrjohansson/scientific-python-lectures) that is very nice. Lectures 1-4 are most relevant to this class.\n",
    "* [Idiomatic Python](http://python.net/~goodger/projects/pycon/2007/idiomatic/handout.html)\n",
    "* [A video intro](http://pyvideo.org/video/2744/the-wonderful-world-of-scientific-computing-with) from SciPy 2014.\n",
    "\n",
    "\n",
    "## Getting and installing Python\n",
    "\n",
    "You will be using Python throughout the course, including many popular 3rd party Python libraries for scientific computing. [Anaconda](http://continuum.io/downloads) is an easy-to-install bundle of Python and most of these libraries. We **strongly** recommend that you use Anaconda for this course. If you insist on using your own Python setup instead of Anaconda, we will not provide any installation support, and are not responsible for you loosing points on homework assignments in case of inconsistencies. \n",
    "\n",
    "**For this course we are using Python 2.7, not Python 3.**\n",
    "\n",
    "Also see: http://docs.continuum.io/anaconda/install\n",
    "\n",
    "The **IPython** or **Jupyter** notebook runs in the browser, and works best in Google Chrome or Safari for me. You probably want to use one of these for assignments in this course.\n",
    "\n",
    "### Installing Anaconda\n",
    "\n",
    "The Anaconda Python distribution is an easily-installable bundle of Python and many of the libraries used throughout this class. Unless you have a good reason not to, we recommend that you use Anaconda.\n",
    "\n",
    "### Mac/Linux users\n",
    "\n",
    "1. Download the [appropriate version](http://continuum.io/downloads) of Anaconda. Make sure it is Python 2.7. \n",
    "1. Follow the instructions on that page to run the installer\n",
    "1. Test out the IPython notebook: open a Terminal window, and type `ipython notebook`. Or use the Anaconda Launcher which might have been deposited on your desktop. A new browser window should pop up. \n",
    "1. Click `New` at the upper right corner to create a new notebook file (choose Python 2). A new notebook should open in a new tab. **Trick**: give this notebook a unique name by clicking on `Untitled`, like `my-little-rose`. Use Spotlight (upper right corner of the mac desktop, looks like a maginifier) to search for this name. In this way, you will know which folder your notebook opens in by default.\n",
    "\n",
    "### Windows Users\n",
    "\n",
    "1. Download the [appropriate version](http://continuum.io/downloads) of Anaconda. Make sure it is Python 2.7\n",
    "1. Follow the instructions on that page to run the installer. This will typically create a directory at `C:\\Anaconda`\n",
    "1. Test it out: start the Anaconda launcher, which you can find in `C:\\Anaconda` or, in the Start menu. Start the IPython notebook. A new browser window should open. \n",
    "1. Click `New` at the upper right corner to create a new notebook file (choose Python 2). A new notebook should open in a new tab. **Trick**: give this notebook a unique name by clicking on `Untitled`, like `my-little-rose`. Use Spotlight (upper right corner of the mac desktop, looks like a maginifier) to search for this name. In this way, you will know which folder your notebook opens in by default.\n",
    "\n",
    "If you did not add Anaconda to your path, be sure to use the full path to the python and ipython executables, such as `/anaconda/bin/python`.\n",
    "\n",
    "If you already have installed Anaconda at some point in the past, you can easily update to the latest Anaconda version by updating conda, then Anaconda as follows:"
   ]
  },
  {
   "cell_type": "markdown",
   "metadata": {},
   "source": [
    "## Python Libraries\n",
    "\n",
    "To complete your installation you should first make sure all your libraries are up to date. Open a command line and execute the following commands:\n",
    "```\n",
    "conda update conda\n",
    "conda update anaconda\n",
    "conda update ipython\n",
    "```\n",
    "\n",
    "then you need to add two more libararies, which are conveniently provided as conda packages. All you need to do is again to execute the following commands:\n",
    "\n",
    "* for seaborn: \n",
    "\n",
    "`conda install seaborn`\n",
    "\n",
    "* for pymc: \n",
    "\n",
    "`conda install pymc`\n",
    "\n",
    "We will be using a several different libraries throughout this course. If you've successfully completed the installation instructions above, all of the following statements should run."
   ]
  },
  {
   "cell_type": "code",
   "execution_count": 22,
   "metadata": {
    "collapsed": false
   },
   "outputs": [
    {
     "name": "stdout",
     "output_type": "stream",
     "text": [
      "IPython version:       4.0.3 (need at least 4.0.3)\n",
      "Numpy version:        1.10.2 (need at least 1.10.1)\n",
      "SciPy version:        0.16.1 (need at least 0.16.0)\n",
      "Pandas version:       0.17.1 (need at least 0.17.1)\n",
      "Mapltolib version:     1.5.1 (need at least 1.5.1)\n",
      "Scikit-Learn version:   0.17 (need at least 0.17)\n",
      "Seaborn version:       0.6.0 (need at least 0.6.0)\n",
      "PyMC version:          2.3.6 (need at least 2.3.6)\n"
     ]
    }
   ],
   "source": [
    "#IPython is what you are using now to run the notebook\n",
    "import IPython\n",
    "print \"IPython version:      %6.6s (need at least 4.0.3)\" % IPython.__version__\n",
    "\n",
    "# Numpy is a library for working with Arrays\n",
    "import numpy as np\n",
    "print \"Numpy version:        %6.6s (need at least 1.10.1)\" % np.__version__\n",
    "\n",
    "# SciPy implements many different numerical algorithms\n",
    "import scipy as sp\n",
    "print \"SciPy version:        %6.6s (need at least 0.16.0)\" % sp.__version__\n",
    "\n",
    "# Pandas makes working with data tables easier\n",
    "import pandas as pd\n",
    "print \"Pandas version:       %6.6s (need at least 0.17.1)\" % pd.__version__\n",
    "\n",
    "# Module for plotting\n",
    "import matplotlib\n",
    "print \"Mapltolib version:    %6.6s (need at least 1.5.1)\" % matplotlib.__version__\n",
    "\n",
    "# SciKit Learn implements several Machine Learning algorithms\n",
    "import sklearn\n",
    "print \"Scikit-Learn version: %6.6s (need at least 0.17)\" % sklearn.__version__\n",
    "\n",
    "#Seaborn is a nice library for visualizations\n",
    "import seaborn\n",
    "print \"Seaborn version:      %6.6s (need at least 0.6.0)\" % seaborn.__version__\n",
    "\n",
    "#You'll use pymc later for sophisticated sampling\n",
    "import pymc\n",
    "print \"PyMC version:         %6.6s (need at least 2.3.6)\" % pymc.__version__\n",
    "\n",
    "# this actually imports matplotlib\n",
    "import matplotlib.pyplot as plt  \n",
    "\n",
    "# namedtuples are useful\n",
    "from collections import namedtuple"
   ]
  },
  {
   "cell_type": "markdown",
   "metadata": {},
   "source": [
    "If any of these libraries are missing or out of date, you will need to install them and **restart IPython**. This means you have to close the notebook and the running server and start a new one. Please see also the troubleshooting advice below."
   ]
  },
  {
   "cell_type": "markdown",
   "metadata": {},
   "source": [
    "### Troubleshooting\n",
    "You must be careful to make sure you are running the Anaconda version of python, since those operating systems come preinstalled with their own versions of python."
   ]
  },
  {
   "cell_type": "code",
   "execution_count": 23,
   "metadata": {
    "collapsed": false
   },
   "outputs": [
    {
     "name": "stdout",
     "output_type": "stream",
     "text": [
      "2.7.11 |Anaconda 2.4.1 (64-bit)| (default, Dec  6 2015, 18:08:32) \n",
      "[GCC 4.4.7 20120313 (Red Hat 4.4.7-1)]\n"
     ]
    }
   ],
   "source": [
    "import sys\n",
    "print sys.version"
   ]
  },
  {
   "cell_type": "markdown",
   "metadata": {},
   "source": [
    "This should output something like:\n",
    "`2.7.11 |Anaconda 2.4.1 (64-bit)| (default, Jan 19 2016, 12:08:31) [MSC v.1500 64 bit (AMD64)]`\n",
    "\n",
    "Again, please make sure the first number is 2.7, not 3.x\n",
    "\n",
    "**Problem**\n",
    "When you start python, you don't see a line like `Python 2.7.5 |Anaconda 1.6.1 (x86_64)|`. You are using a Mac or Linux computer\n",
    "\n",
    "**Reason**\n",
    "You are most likely running a different version of Python, and need to modify your Path (the list of directories your computer looks through to find programs). \n",
    "\n",
    "**Solution**\n",
    "Find a file like `.bash_profile`, `.bashrc`, or `.profile`. Open the file in a text editor, and add a line at this line at the end: `export PATH=\"$HOME/anaconda/bin:$PATH\"`. Close the file, open a new terminal window, type `source ~/.profile` (or whatever file you just edited). Type `which python` -- you should see a path that points to the anaconda directory. If so, running `python` should load the proper version\n",
    "\n",
    "If this doesn't work (typing `which python` doesn't point to anaconda), you might be using a different shell. Type `echo $SHELL`. If this isn't `bash`, you need to edit a different startup file (for example, if if `echo $SHELL` gives `$csh`, you need to edit your `.cshrc` file. The syntax for this file is slightly different: `set PATH = ($HOME/anaconda/bin $PATH)`\n",
    "***\n",
    "\n",
    "**Problem**\n",
    "You are running the right version of python (see above item), but are unable to import numpy. \n",
    "\n",
    "**Reason**\n",
    "You are probably loading a different copy of numpy that is incompatible with Anaconda\n",
    "\n",
    "**Solution**\n",
    "See the above item to find your `.bash_profile`, `.profile`, or `.bashrc` file. Open it, and add the line `unset PYTHONPATH` at the end. Close the file, open a new terminal window, type `source ~/.profile` (or whatever file you just edited), and try again.\n",
    "***\n",
    "\n",
    "**Problem**\n",
    "Under Windows, you receive an error message similar to the following: \"'pip' is not recognized as an internal or external command, operable program or batch file.\"\n",
    "\n",
    "**Reason**\n",
    "The correct Anaconda paths might not be present in your PATH variable, or Anaconda might not have installed correctly.\n",
    "\n",
    "**Solution**\n",
    "Ensure the Anaconda directories to your path environment variable (\"\\Anaconda\" and \"\\Anaconda\\Scripts\").  See [this page](http://superuser.com/questions/284342/what-are-path-and-other-environment-variables-and-how-can-i-set-or-use-them) for details.\n",
    "\n",
    "If this does not correct the problem, reinstall Anaconda.\n"
   ]
  },
  {
   "cell_type": "markdown",
   "metadata": {},
   "source": [
    "<hline>\n",
    "\n",
    "## Hello, Python\n",
    "\n",
    "The IPython notebook is an application to build interactive computational notebooks. You'll be using them to complete labs and homework. Once you've set up Python, please download this HW0 ipython notebook and open it with IPython by typing\n",
    "\n",
    "```\n",
    "ipython notebook <name_of_downloaded_file>\n",
    "```\n",
    "\n",
    "For the rest of the assignment, use your local copy of this page, running on IPython.\n",
    "\n",
    "Notebooks are composed of many \"cells\", which can contain text (like this one), or code (like the one below). Double click on the cell below, and evaluate it by clicking the \"play\" button above, or by hitting shift + enter"
   ]
  },
  {
   "cell_type": "code",
   "execution_count": 24,
   "metadata": {
    "collapsed": false
   },
   "outputs": [
    {
     "name": "stdout",
     "output_type": "stream",
     "text": [
      "Item is  10\n",
      "Item is  20\n",
      "Item is  30\n",
      "Item is  40\n",
      "Item is  50\n"
     ]
    }
   ],
   "source": [
    "x = [10, 20, 30, 40, 50]\n",
    "for item in x:\n",
    "    print \"Item is \", item"
   ]
  },
  {
   "cell_type": "markdown",
   "metadata": {},
   "source": [
    "## Hello matplotlib"
   ]
  },
  {
   "cell_type": "markdown",
   "metadata": {},
   "source": [
    "The notebook integrates nicely with Matplotlib, the primary plotting package for python. This should embed a figure of a sine wave:"
   ]
  },
  {
   "cell_type": "code",
   "execution_count": 25,
   "metadata": {
    "collapsed": false
   },
   "outputs": [
    {
     "data": {
      "image/png": "[encoded data removed]",
      "text/plain": [
       "<matplotlib.figure.Figure at 0x7fe0adde8990>"
      ]
     },
     "metadata": {},
     "output_type": "display_data"
    }
   ],
   "source": [
    "#this line prepares IPython for working with matplotlib\n",
    "%matplotlib inline  \n",
    "\n",
    "x = np.linspace(0, 10, 30)  #array of 30 points from 0 to 10\n",
    "y = np.sin(x)\n",
    "z = y + np.random.normal(size=30) * .2\n",
    "plt.plot(x, y, 'ro-', label='A sine wave')\n",
    "plt.plot(x, z, 'b-', label='Noisy sine')\n",
    "plt.legend(loc = 'lower right')\n",
    "plt.xlabel(\"X axis\")\n",
    "plt.ylabel(\"Y axis\")  \n",
    "plt.show()"
   ]
  },
  {
   "cell_type": "markdown",
   "metadata": {},
   "source": [
    "If that last cell complained about the `%matplotlib` line, you need to update IPython to v1.0, and restart the notebook. See the [installation page](https://github.com/cs109/content/wiki/Installing-Python)"
   ]
  },
  {
   "cell_type": "markdown",
   "metadata": {},
   "source": [
    "## Hello Numpy\n",
    "\n",
    "The Numpy array processing library is the basis of nearly all numerical computing in Python. Here's a 30 second crash course. For more details, consult Chapter 4 of Python for Data Analysis, or the [Numpy User's Guide](http://docs.scipy.org/doc/numpy-dev/user/index.html)"
   ]
  },
  {
   "cell_type": "code",
   "execution_count": 26,
   "metadata": {
    "collapsed": false
   },
   "outputs": [
    {
     "name": "stdout",
     "output_type": "stream",
     "text": [
      "Make a 3 row x 4 column array of random numbers\n",
      "[[ 0.23168554  0.71511058  0.27128862  0.16654949]\n",
      " [ 0.38812801  0.06899035  0.13065285  0.6698843 ]\n",
      " [ 0.08606891  0.72331805  0.78163945  0.74464768]]\n",
      "\n",
      "Add 1 to every element\n",
      "[[ 1.23168554  1.71511058  1.27128862  1.16654949]\n",
      " [ 1.38812801  1.06899035  1.13065285  1.6698843 ]\n",
      " [ 1.08606891  1.72331805  1.78163945  1.74464768]]\n",
      "\n",
      "Get the element at row 1, column 2\n",
      "1.13065284552\n",
      "\n",
      "Get the first row\n",
      "[ 1.23168554  1.71511058  1.27128862  1.16654949]\n",
      "\n",
      "Get every 2nd column of the first row\n",
      "[ 1.23168554  1.27128862]\n",
      "\n"
     ]
    }
   ],
   "source": [
    "print \"Make a 3 row x 4 column array of random numbers\"\n",
    "x = np.random.random((3, 4))\n",
    "print x\n",
    "print\n",
    "\n",
    "print \"Add 1 to every element\"\n",
    "x = x + 1\n",
    "print x\n",
    "print\n",
    "\n",
    "print \"Get the element at row 1, column 2\"\n",
    "print x[1, 2]\n",
    "print\n",
    "\n",
    "# The colon syntax is called \"slicing\" the array. \n",
    "print \"Get the first row\"\n",
    "print x[0, :]\n",
    "print\n",
    "\n",
    "print \"Get every 2nd column of the first row\"\n",
    "print x[0, ::2]\n",
    "print"
   ]
  },
  {
   "cell_type": "markdown",
   "metadata": {},
   "source": [
    "Print the maximum, minimum, and mean of the array. This does **not** require writing a loop. In the code cell below, type `x.m<TAB>`, to find built-in operations for common array statistics like this"
   ]
  },
  {
   "cell_type": "code",
   "execution_count": 27,
   "metadata": {
    "collapsed": false
   },
   "outputs": [
    {
     "name": "stdout",
     "output_type": "stream",
     "text": [
      "1.78163945463\n",
      "1.41483032033\n",
      "1.06899035028\n"
     ]
    }
   ],
   "source": [
    "#your code here\n",
    "print x.max()\n",
    "print x.mean()\n",
    "print x.min()"
   ]
  },
  {
   "cell_type": "markdown",
   "metadata": {},
   "source": [
    "Call the `x.max` function again, but use the `axis` keyword to print the maximum of each row in x."
   ]
  },
  {
   "cell_type": "code",
   "execution_count": 28,
   "metadata": {
    "collapsed": false
   },
   "outputs": [
    {
     "name": "stdout",
     "output_type": "stream",
     "text": [
      "[ 1.71511058  1.6698843   1.78163945]\n"
     ]
    }
   ],
   "source": [
    "#your code here\n",
    "print x.max(axis=1)"
   ]
  },
  {
   "cell_type": "markdown",
   "metadata": {},
   "source": [
    "Here's a way to quickly simulate 500 coin \"fair\" coin tosses (where the probabily of getting Heads is 50%, or 0.5)"
   ]
  },
  {
   "cell_type": "code",
   "execution_count": 29,
   "metadata": {
    "collapsed": false
   },
   "outputs": [
    {
     "name": "stdout",
     "output_type": "stream",
     "text": [
      "number of heads: 252\n"
     ]
    }
   ],
   "source": [
    "x = np.random.binomial(500, .5)\n",
    "print \"number of heads:\", x"
   ]
  },
  {
   "cell_type": "markdown",
   "metadata": {},
   "source": [
    "Repeat this simulation 500 times, and use the [plt.hist() function](http://matplotlib.org/api/pyplot_api.html#matplotlib.pyplot.hist) to plot a histogram of the number of Heads (1s) in each simulation. Remember to label the axes. Play around a bit with the plotting to get a pretty picture. "
   ]
  },
  {
   "cell_type": "code",
   "execution_count": 30,
   "metadata": {
    "collapsed": false
   },
   "outputs": [
    {
     "data": {
      "text/plain": [
       "<matplotlib.text.Text at 0x7fe0add0b0d0>"
      ]
     },
     "execution_count": 30,
     "metadata": {},
     "output_type": "execute_result"
    },
    {
     "data": {
      "image/png": "[encoded data removed]",
      "text/plain": [
       "<matplotlib.figure.Figure at 0x7fe0adc8ae90>"
      ]
     },
     "metadata": {},
     "output_type": "display_data"
    }
   ],
   "source": [
    "#your code here\n",
    "results = np.zeros(500)\n",
    "for i in xrange(500):\n",
    "    results[i] = np.random.binomial(500, .5)\n",
    "n, bins, patches = plt.hist(results, bins=20, facecolor='blue')    \n",
    "plt.xlabel('number of head')\n",
    "plt.ylabel('number of occurence')\n",
    "#print results"
   ]
  },
  {
   "cell_type": "markdown",
   "metadata": {},
   "source": [
    "# The puppy problem: \n",
    "Maria's friend, Paparus, another statistics PhD, is thinking of getting a lovely puppy for his girlfriend. A desirable puppy should be less than 6 years old, taller than 20 cm but shorter than 35 cm. It also should weigh less than 40 lbs. \n",
    "Assume that the probability distribution for the age $a$ is an exponential distribution, and that the age is independent of the height and weight.\n",
    "\n",
    "$$a\\sim \\mbox{Expo(}\\lambda\\mbox{)} \\text{, with } \\lambda = 0.3$$ \n",
    "\n",
    "\n",
    "\n",
    "The joint distribution of height $h$ and weight $w$ is a bivariate normal distribution:\n",
    "\n",
    "$$(h,w)\\sim N(\\mu, \\Sigma) \\text{, with }  \\mu=(\\mu_h,\\mu_w) = (30, 25)   \\text{, and } \\Sigma = \\left(\\begin{array}{cc} 50 & 10\\\\  10 & 100 \\end{array}\\right).$$\n",
    "\n",
    "\n",
    "\n",
    "Estimate the probability that Paparus finds a desirable puppy. "
   ]
  },
  {
   "cell_type": "code",
   "execution_count": 70,
   "metadata": {
    "collapsed": false
   },
   "outputs": [
    {
     "name": "stdout",
     "output_type": "stream",
     "text": [
      "probability of satifying age limit is:  0.834701111778\n",
      "height and weight probability is =  0.489506628468\n",
      "probability of a desire puppy is  0.408591727005\n"
     ]
    }
   ],
   "source": [
    "#import scipy.stats.multivariate_normal\n",
    "from scipy.stats import multivariate_normal\n",
    "import scipy.integrate as integrate\n",
    "\n",
    "#age\n",
    "l = 0.3\n",
    "Pa = 1- np.exp(-6 * l);\n",
    "print 'probability of satifying age limit is: ', Pa\n",
    "\n",
    "#height and weight\n",
    "mean = [30,25]\n",
    "cov = [[50,10],[10,100]]\n",
    "rv = multivariate_normal(mean, cov);\n",
    "\n",
    "#numerical integration\n",
    "prob = integrate.dblquad(lambda x,y: rv.pdf([x,y]),20,35,lambda y: -np.inf, lambda y: 40)\n",
    "print 'height and weight probability is = ', prob[0]\n",
    "\n",
    "#draw pdf \n",
    "#x,y = np.mgrid[-1:1:.01, -1:1:.01]\n",
    "#pos = np.empty(x.shape + (2,))\n",
    "#pos[:,:,0]= x \n",
    "#pos[:,:,1]= y\n",
    "#plt.contourf(x, y, rv.pdf(pos))\n",
    "\n",
    "print 'probability of a desire puppy is ', prob[0] * Pa"
   ]
  },
  {
   "cell_type": "markdown",
   "metadata": {},
   "source": [
    "# The puppy problem solution: \n",
    "We are given that age is independent of height and weight. Hence we have:\n",
    "\n",
    "$$ P(a<6,20<h<35,w<40) = P(a<6) P(20<h<35,w<40) $$\n",
    "\n",
    "We can obtain the first part by:\n",
    "$$ P(a<6) = 1 - \\exp(-6 \\lambda) = 0.8347 $$\n",
    "\n",
    "The second part involves integrating over the bivariate normal distribution. The formula is: \n",
    "\n",
    "$$ f(\\boldsymbol{x}) = \\frac{1}{\\sqrt{(2\\pi)^2 det(\\Sigma)}}\\exp(-\\frac{1}{2}(x-\\mu)^T\\Sigma^{-1}(x-\\mu) )$$\n",
    "\n",
    "We use the python function multivariate_normal() to generate the distribution and the function dblquad() solve the numerical integration. Finally, we multiply the 2 terms to arrive at the answer. The probability of getting a desired puppy is 0.408."
   ]
  }
 ],
 "metadata": {
  "celltoolbar": "Raw Cell Format",
  "kernelspec": {
   "display_name": "Python 2",
   "language": "python",
   "name": "python2"
  },
  "language_info": {
   "codemirror_mode": {
    "name": "ipython",
    "version": 2
   },
   "file_extension": ".py",
   "mimetype": "text/x-python",
   "name": "python",
   "nbconvert_exporter": "python",
   "pygments_lexer": "ipython2",
   "version": "2.7.11"
  }
 },
 "nbformat": 4,
 "nbformat_minor": 0
}
