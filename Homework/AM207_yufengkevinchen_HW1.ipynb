{
 "cells": [
  {
   "cell_type": "markdown",
   "metadata": {},
   "source": [
    "# **AM 207**: Homework 1"
   ]
  },
  {
   "cell_type": "markdown",
   "metadata": {},
   "source": [
    "Verena Kaynig-Fittkau and Pavlos Protopapas  <br>\n",
    "**Due: 11.59 P.M. Thursday February 18th, 2015**"
   ]
  },
  {
   "cell_type": "markdown",
   "metadata": {},
   "source": [
    "### Instructions:\n",
    "\n",
    "+ Upload your answers in an ipython notebook to Canvas.\n",
    "\n",
    "+ We will provide you imports for your ipython notebook. Please do not import additional libraries.\n",
    "\n",
    "+ Your individual submissions should use the following filenames: AM207_YOURNAME_HW1.ipynb\n",
    "\n",
    "+ Your code should be in code cells as part of your ipython notebook. Do not use a different language (or format). \n",
    "\n",
    "+ **Do not just send your code. The homework solutions should be in a report style. Be sure to add comments to your code as well as markdown cells where you describe your approach and discuss your results. **\n",
    "\n",
    "+ Please submit your notebook in an **executed** status, so that we can see all the results you computed. However, we will still run your code and all cells should reproduce the output when executed. \n",
    "\n",
    "+ If you have multiple files (e.g. you've added code files or images) create a tarball for all files in a single file and name it: AM207_YOURNAME_HW1.tar.gz or AM207_YOURNAME_HW1.zip\n",
    "\n",
    "\n",
    "### Have Fun!\n",
    "_ _ _ _ _"
   ]
  },
  {
   "cell_type": "code",
   "execution_count": 2,
   "metadata": {
    "collapsed": false
   },
   "outputs": [
    {
     "name": "stderr",
     "output_type": "stream",
     "text": [
      "/home/kevin/anaconda2/lib/python2.7/site-packages/matplotlib/font_manager.py:273: UserWarning: Matplotlib is building the font cache using fc-list. This may take a moment.\n",
      "  warnings.warn('Matplotlib is building the font cache using fc-list. This may take a moment.')\n",
      "/home/kevin/anaconda2/lib/python2.7/site-packages/matplotlib/__init__.py:872: UserWarning: axes.color_cycle is deprecated and replaced with axes.prop_cycle; please use the latter.\n",
      "  warnings.warn(self.msg_depr % (key, alt_key))\n"
     ]
    }
   ],
   "source": [
    "import numpy as np\n",
    "import matplotlib\n",
    "import matplotlib.pyplot as plt\n",
    "from mpl_toolkits.mplot3d import Axes3D\n",
    "%matplotlib inline\n",
    "\n",
    "import seaborn as sns\n",
    "sns.set_style(\"white\")\n",
    "\n",
    "import time\n",
    "\n",
    "import scipy.stats "
   ]
  },
  {
   "cell_type": "markdown",
   "metadata": {},
   "source": [
    "# Problem 1: By a Needles Length\n",
    "\n",
    "![Alt Buffon Needle](figures/Buffon_needle.gif)\n",
    "We discussed how to use Buffon's needle to estimate $\\pi$ during lecture, using the probability of the needle crossing a line of a floor tile. Using Monte Carlo simulation, estimate the probability of the needle crossing a floor line as a function of the needle's length. Assume that the distance between floor lines is 1 unit, and your needle manufacturer provides you with needles of different length in 0.1 increments with a maximum length of 1 unit. Plot a histogram of your results and compare your results to the analytical solution from the lecture:\n",
    "$$P = \\frac{2 \\cdot l}{t \\cdot \\pi}$$\n",
    "\n",
    "where $l$ is the length of the needle and $t$ is the distance beweent the floor tiles\n",
    "\n",
    "In a next step extend your simulation to a maximum needle length of 2 units, still using 0.1 increments. Compare your results to the same formula for the intersection. Why do your results now diverge from the analytical solution given above? What would you need to do to correct the analytical formula? It is ok to just describe the integral you need to solve analytically, and why it looks this way. No need to actually do the integration by hand. "
   ]
  },
  {
   "cell_type": "markdown",
   "metadata": {},
   "source": [
    "**Please answer this problem by adding cells here.**"
   ]
  },
  {
   "cell_type": "code",
   "execution_count": 15,
   "metadata": {
    "collapsed": false
   },
   "outputs": [
    {
     "name": "stdout",
     "output_type": "stream",
     "text": [
      "simulated mean probability is: [ 0.064   0.1245  0.1937  0.2507  0.3227  0.3801  0.4403  0.5089  0.581\n",
      "  0.6366]\n",
      "simulated standard deviation is: [ 0.02271563  0.03253844  0.04158497  0.04474941  0.05011696  0.0499899\n",
      "  0.05363683  0.04424692  0.04809366  0.04224263]\n"
     ]
    },
    {
     "data": {
      "image/png": "[encoded data removed]",
      "text/plain": [
       "<matplotlib.figure.Figure at 0x7f2a42cfe110>"
      ]
     },
     "metadata": {},
     "output_type": "display_data"
    }
   ],
   "source": [
    "#python script to estimate the probablity of the needle intersects the line\n",
    "\n",
    "#number of samples\n",
    "N_total = 100;\n",
    "\n",
    "#number of simulations to calculate mean and std\n",
    "num_sim = 100;\n",
    "\n",
    "#needle length\n",
    "needle_length = np.arange(0.1,1.1,0.1)\n",
    "\n",
    "#probability\n",
    "sim_result = np.zeros(needle_length.shape,dtype='float')\n",
    "sim_std = np.zeros(needle_length.shape,dtype='float')\n",
    "\n",
    "#analytical solution\n",
    "ana_result = 2 * needle_length / (1.0 * np.pi)\n",
    "\n",
    "#loop through all needle length\n",
    "for ind, length in enumerate(needle_length):  \n",
    "    \n",
    "    local_result = np.zeros(num_sim,dtype='float')\n",
    "    for i in np.arange(num_sim):\n",
    "        #generate random numbers  \n",
    "        X =     np.random.uniform(low=0,high=1/2.0,size=N_total)\n",
    "        theta = np.random.uniform(low=0,high=np.pi/2.0,size=N_total)\n",
    "   \n",
    "        #determine if intersects\n",
    "        is_intersect =  (X/np.sin(theta) <= length/2.0) \n",
    "    \n",
    "        #sum up number of intersects\n",
    "        N_intersect = np.sum(is_intersect)\n",
    "    \n",
    "        local_result[i] = N_intersect/float(N_total)\n",
    "        \n",
    "    #record the probablity\n",
    "    sim_result[ind] = np.mean(local_result)\n",
    "    sim_std[ind]=np.std(local_result)\n",
    "\n",
    "    \n",
    "#plot solution    \n",
    "plt.plot(needle_length,ana_result, label = 'analytical result') \n",
    "plt.errorbar(needle_length,sim_result, yerr = sim_std, fmt= 'o', label = 'sim result')\n",
    "\n",
    "plt.xlabel('needle length')\n",
    "plt.ylabel('intersecting probablity')\n",
    "plt.legend()\n",
    "    \n",
    "print 'simulated mean probability is:' ,sim_result\n",
    "print 'simulated standard deviation is:' ,sim_std\n",
    "#for ind, i in enumerate(needle_length):\n",
    "#    print ind,i\n",
    "  "
   ]
  },
  {
   "cell_type": "markdown",
   "metadata": {},
   "source": [
    "## needle length exceeds t\n",
    "\n",
    "The formula $ P = \\frac{2l}{t\\pi}$ is only accurate if needle length l < t. Here we set t = 1 for simplicity. Rigorously, the integral is given by \n",
    "$$ \\begin{gather*} \n",
    "P = \\int_{\\theta=0} ^{\\pi/2} \\int_{x=0} ^{\\min(l/2\\sin\\theta, 1/2)} \\frac{4}{\\pi}dxd\\theta \\\\\n",
    "P = \\frac{4}{\\pi} \\Big( \\int_{\\theta=0} ^{\\theta=\\theta^*} l/2\\sin\\theta d\\theta + \\int_{\\theta=\\theta^*} ^{\\theta=\\pi/2} \\frac{1}{2} d\\theta\\Big)\\\\\n",
    "P = \\frac{2}{\\pi}(l-\\sqrt{l^2-1}) + 1 - \\frac{2}{\\pi}\\sin^{-1}\\frac{1}{l}\n",
    "\\end{gather*}\n",
    "$$\n",
    "where $\\theta^* = \\sin^{-1}\\frac{1}{l}$.\n",
    "\n",
    "This formula is true is l>t=1. The following section compares the simulation result with the analytical result. Both the simulation mean and the standard deviation are shown on the plot. \n"
   ]
  },
  {
   "cell_type": "code",
   "execution_count": 27,
   "metadata": {
    "collapsed": false
   },
   "outputs": [
    {
     "name": "stdout",
     "output_type": "stream",
     "text": [
      "[ 0.06366198  0.12732395  0.19098593  0.25464791  0.31830989  0.38197186\n",
      "  0.44563384  0.50929582  0.5729578   0.63661977  0.68210122  0.71451694\n",
      "  0.74006891  0.76101367  0.77860806  0.79365171  0.80669191  0.8181216\n",
      "  0.82823281  0.83724842]\n",
      "simulated mean probability is: [ 0.0599  0.1282  0.1916  0.2586  0.3211  0.3811  0.4371  0.5072  0.5809\n",
      "  0.6327  0.6778  0.7197  0.7323  0.7705  0.7798  0.7921  0.8046  0.8172\n",
      "  0.8314  0.8343]\n",
      "simulated standard deviation is: [ 0.02677667  0.03080195  0.03825493  0.04582619  0.04617131  0.04610629\n",
      "  0.05081919  0.04372825  0.05553548  0.04947434  0.05472805  0.04642101\n",
      "  0.04614878  0.03881688  0.04296464  0.04155226  0.03528229  0.03310831\n",
      "  0.03841927  0.03166244]\n"
     ]
    },
    {
     "data": {
      "image/png": "[encoded data removed]",
      "text/plain": [
       "<matplotlib.figure.Figure at 0x7f2a425d7cd0>"
      ]
     },
     "metadata": {},
     "output_type": "display_data"
    }
   ],
   "source": [
    "#python script to estimate the probablity of the needle intersects the line\n",
    "\n",
    "#number of samples\n",
    "N_total = 100;\n",
    "\n",
    "#number of simulations to calculate mean and std\n",
    "num_sim = 100;\n",
    "\n",
    "#needle length\n",
    "needle_length = np.arange(0.1,2.1,0.1)\n",
    "\n",
    "#probability\n",
    "sim_result = np.zeros(needle_length.shape,dtype='float')\n",
    "sim_std = np.zeros(needle_length.shape,dtype='float')\n",
    "\n",
    "#analytical solution\n",
    "ana_result = 2 * needle_length / (1.0 * np.pi)\n",
    "ana_result[10:] = 2/np.pi * (needle_length[10:] - np.sqrt(needle_length[10:]**2-1)) + \\\n",
    "                  1 - 2/np.pi*np.arcsin(float(1)/needle_length[10:])\n",
    "print ana_result\n",
    "\n",
    "#loop through all needle length\n",
    "for ind, length in enumerate(needle_length):  \n",
    "    \n",
    "    local_result = np.zeros(num_sim,dtype='float')\n",
    "    for i in np.arange(num_sim):\n",
    "        #generate random numbers  \n",
    "        X =     np.random.uniform(low=0,high=1/2.0,size=N_total)\n",
    "        theta = np.random.uniform(low=0,high=np.pi/2.0,size=N_total)\n",
    "   \n",
    "        #determine if intersects\n",
    "        is_intersect =  (X/np.sin(theta) <= length/2.0) \n",
    "    \n",
    "        #sum up number of intersects\n",
    "        N_intersect = np.sum(is_intersect)\n",
    "    \n",
    "        local_result[i] = N_intersect/float(N_total)\n",
    "        \n",
    "    #record the probablity\n",
    "    sim_result[ind] = np.mean(local_result)\n",
    "    sim_std[ind]=np.std(local_result)\n",
    "\n",
    "    \n",
    "#plot solution    \n",
    "plt.plot(needle_length,ana_result, label = 'analytical result') \n",
    "plt.errorbar(needle_length,sim_result, yerr = sim_std, fmt= 'o', label = 'sim result')\n",
    "\n",
    "plt.xlabel('needle length')\n",
    "plt.ylabel('intersecting probablity')\n",
    "plt.legend(loc=4)\n",
    "    \n",
    "print 'simulated mean probability is:' ,sim_result\n",
    "print 'simulated standard deviation is:' ,sim_std\n",
    "#for ind, i in enumerate(needle_length):\n",
    "#    print ind,i"
   ]
  },
  {
   "cell_type": "markdown",
   "metadata": {},
   "source": [
    "# Problem 2: Simple Integration\n",
    "\n",
    "Write a function that estimates the value of a given one dimensional integral Monte Carlo style. \n",
    "The function should have the following signature:\n",
    "\n",
    "`estimate_integral_MC(function_to_integrate, lower_bound, upper_bound, number_of_samples, number_of_tries)`\n",
    "\n",
    "Where `number_of_tries` is used to calculate the standard deviation of the estimated value of the integral. \n",
    "\n",
    "Test your function by solving the following integrals:\n",
    "\n",
    "* $ \\int_0^3 x^{\\frac{x}{4}} \\,dx$\n",
    "* $ \\int_0^1 \\log x \\cdot \\log(1-x) \\,dx $.\n"
   ]
  },
  {
   "cell_type": "markdown",
   "metadata": {},
   "source": [
    "**Please answer this problem by adding cells here.**"
   ]
  },
  {
   "cell_type": "markdown",
   "metadata": {},
   "source": [
    "# Problem 3: The Donut Estimation\n",
    "\n",
    "You bought a nice donut for yourself and decided to eat it in the evening while working on your AM207 assignments. \n",
    "Unfortunately you live in a shared apartment and your roommate got hold of the donut in the kitchen. It seems that he first\n",
    "cut off a small piece from the bottom, but then discovered how delicious the donut was and proceeded to cut off an additional large part. Discovering the donut theft in the evening you decide to confront your roommate, but you want to present hard facts and estimate how much of your original donut was left. \n",
    "\n",
    "Think of the donut as a 3D object(refer to the following picture). You model the donut as a torus centered at the origin`(0,0,0)` with outer radius `R=4` and inner radius `r=2`. Points $(x,y,z)$ inside the torus then are described by the following condition: \n",
    "$$z^2 + (\\sqrt{x^2 + y^2} - c)^2 \\leq a^2,$$\n",
    "where $c$ is the radius from origin to the center of the torus tube, and $a$ is the radius of the donut tube, the cross section of the donut tube is a circle.\n",
    "\n",
    "Your roomates cuts were first parallel to the x axis at y = -3, and then parallel to the y axis at x = 1.\n",
    "\n",
    "To estimate the weight of the donut you need to solve the integral\n",
    "\n",
    "$$ \\int_V \\rho \\,dx \\,dy \\,dz $$.\n",
    "\n",
    "Where $\\rho$ is the density of the donut and $V$ is the volume. As you are just interested in the percentage of the whole donut you got to eat, you can just assume $\\rho=1$.\n",
    "\n",
    "The weight of the whole original donut then was:\n",
    "\n",
    "$$ (\\pi a^2)\\cdot(2 \\cdot \\pi \\cdot c) $$\n",
    "\n",
    "What is the percentage of the donut your room mate left for you to eat? Don't forget to estimate the error as well!\n",
    "\n",
    "\n"
   ]
  },
  {
   "cell_type": "markdown",
   "metadata": {},
   "source": [
    "**Please answer this problem by adding cells here.**"
   ]
  },
  {
   "cell_type": "markdown",
   "metadata": {},
   "source": [
    "# Problem 4: New Years Resolutions\n",
    "\n",
    "A lot of people pledge to get more active in the new year. Unfortunately these resolutions often are short lived. We model the probability distribution of personal fitness over the months of a year with a skewed distribution:\n",
    "\n",
    "$ P(t) = \\lambda \\frac{(t-0.9)}{(t-1)^2 + 1}, \\; 1 \\leq t \\leq 12 $\n",
    "\n",
    "$ P(t) = 0 \\; otherwise$\n",
    "\n",
    "Where $t=1$ corresponds to January, $t=2$ corresponds to February, etc.. $\\lambda$ is a normalization constant, and t is measured in months ($t$ only takes integer values). \n",
    "\n",
    "* Plot the given distribution and compute the normalization factor\n",
    "* Sample $10^5$ samples from the distribution given above using rejection sampling. \n",
    "* Plot the histogram of the simulated samples and compare it to the true distribution (hint: It's easiest to use the normalization factor computed above and then plot the normed version of the histogram against it.\n",
    "* Repeat the first two steps using the inverse transform instead of rejection sampling. Do not bother with getting the anti-derivative analytically. Just build a lookup table for it. \n",
    "* Compare the execution time of both methods. Which one is faster and why? When would you prefer a lookup table and when an analytical solution to the anti-derivative?"
   ]
  },
  {
   "cell_type": "markdown",
   "metadata": {},
   "source": [
    "**Please answer this problem by adding cells here.**"
   ]
  },
  {
   "cell_type": "markdown",
   "metadata": {},
   "source": [
    "# Problem 5: Give it all!\n",
    "\n",
    "Estimate the following integral:\n",
    "\n",
    "$ \\int_{-1}^{1} \\int_{-1}^{1}  f(x,y) \\,dx \\,dy$, with \n",
    "\n",
    "$ g(x,y) = -(x+0.4)^2 - (y+0.4)^2 + 0.1 - (x-0.4)^2 - (y-0.4)^2 + 0.05$, and\n",
    "\n",
    "$ f(x,y) = \\max(g(x,y), 0)$\n",
    "\n",
    "\n",
    "First use basic Monte Carlo estimation. Then apply different variance reduction techniques we discussed in the lecture: \n",
    "* stratified sampling, \n",
    "* control variates, \n",
    "* importance sampling\n",
    "\n",
    "For each technique give a short explanation of how you are applying it to the problem. Implement the different techniques and then make a table and compare the results with respect to run-time and error in the estimate. \n",
    "\n",
    "You can choose to also either apply and explain antithetic variates, or explain why you don't think they are useful in this case, and how they could benefit of being combined with one of the techniques listed above. "
   ]
  },
  {
   "cell_type": "markdown",
   "metadata": {},
   "source": [
    "**Please answer this problem by adding cells here.**"
   ]
  }
 ],
 "metadata": {
  "kernelspec": {
   "display_name": "Python 2",
   "language": "python",
   "name": "python2"
  },
  "language_info": {
   "codemirror_mode": {
    "name": "ipython",
    "version": 2
   },
   "file_extension": ".py",
   "mimetype": "text/x-python",
   "name": "python",
   "nbconvert_exporter": "python",
   "pygments_lexer": "ipython2",
   "version": "2.7.11"
  }
 },
 "nbformat": 4,
 "nbformat_minor": 0
}
